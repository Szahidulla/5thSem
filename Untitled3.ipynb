{
 "cells": [
  {
   "cell_type": "raw",
   "id": "576400a3",
   "metadata": {},
   "source": [
    "1. Write a Pandas program to create a Pivot table with multiple indexes from a given excel sheet (Salesdata.xlsx). "
   ]
  },
  {
   "cell_type": "code",
   "execution_count": 6,
   "id": "056dbca9",
   "metadata": {},
   "outputs": [
    {
     "ename": "AttributeError",
     "evalue": "module 'pandas' has no attribute 'read_file'",
     "output_type": "error",
     "traceback": [
      "\u001b[1;31m---------------------------------------------------------------------------\u001b[0m",
      "\u001b[1;31mAttributeError\u001b[0m                            Traceback (most recent call last)",
      "Input \u001b[1;32mIn [6]\u001b[0m, in \u001b[0;36m<cell line: 3>\u001b[1;34m()\u001b[0m\n\u001b[0;32m      1\u001b[0m \u001b[38;5;28;01mimport\u001b[39;00m \u001b[38;5;21;01mpandas\u001b[39;00m \u001b[38;5;28;01mas\u001b[39;00m \u001b[38;5;21;01mpd\u001b[39;00m\n\u001b[0;32m      2\u001b[0m \u001b[38;5;28;01mimport\u001b[39;00m \u001b[38;5;21;01mnumpy\u001b[39;00m \u001b[38;5;28;01mas\u001b[39;00m \u001b[38;5;21;01mnp\u001b[39;00m\n\u001b[1;32m----> 3\u001b[0m df \u001b[38;5;241m=\u001b[39m \u001b[43mpd\u001b[49m\u001b[38;5;241;43m.\u001b[39;49m\u001b[43mread_file\u001b[49m(\u001b[38;5;124m'\u001b[39m\u001b[38;5;124m/dataset/SaleData.xlsx\u001b[39m\u001b[38;5;124m'\u001b[39m)\n\u001b[0;32m      4\u001b[0m df\n",
      "File \u001b[1;32m~\\anaconda3\\lib\\site-packages\\pandas\\__init__.py:261\u001b[0m, in \u001b[0;36m__getattr__\u001b[1;34m(name)\u001b[0m\n\u001b[0;32m    257\u001b[0m     \u001b[38;5;28;01mfrom\u001b[39;00m \u001b[38;5;21;01mpandas\u001b[39;00m\u001b[38;5;21;01m.\u001b[39;00m\u001b[38;5;21;01mcore\u001b[39;00m\u001b[38;5;21;01m.\u001b[39;00m\u001b[38;5;21;01marrays\u001b[39;00m\u001b[38;5;21;01m.\u001b[39;00m\u001b[38;5;21;01msparse\u001b[39;00m \u001b[38;5;28;01mimport\u001b[39;00m SparseArray \u001b[38;5;28;01mas\u001b[39;00m _SparseArray\n\u001b[0;32m    259\u001b[0m     \u001b[38;5;28;01mreturn\u001b[39;00m _SparseArray\n\u001b[1;32m--> 261\u001b[0m \u001b[38;5;28;01mraise\u001b[39;00m \u001b[38;5;167;01mAttributeError\u001b[39;00m(\u001b[38;5;124mf\u001b[39m\u001b[38;5;124m\"\u001b[39m\u001b[38;5;124mmodule \u001b[39m\u001b[38;5;124m'\u001b[39m\u001b[38;5;124mpandas\u001b[39m\u001b[38;5;124m'\u001b[39m\u001b[38;5;124m has no attribute \u001b[39m\u001b[38;5;124m'\u001b[39m\u001b[38;5;132;01m{\u001b[39;00mname\u001b[38;5;132;01m}\u001b[39;00m\u001b[38;5;124m'\u001b[39m\u001b[38;5;124m\"\u001b[39m)\n",
      "\u001b[1;31mAttributeError\u001b[0m: module 'pandas' has no attribute 'read_file'"
     ]
    }
   ],
   "source": [
    "import pandas as pd\n",
    "import numpy as np\n",
    "df = pd.read_file('/dataset/SaleData.xlsx')\n",
    "df"
   ]
  },
  {
   "cell_type": "raw",
   "id": "86043664",
   "metadata": {},
   "source": [
    "2. Write a Pandas program to create a Pivot table and find the total sale amount region wise, manager wise."
   ]
  },
  {
   "cell_type": "code",
   "execution_count": null,
   "id": "e70a20b4",
   "metadata": {},
   "outputs": [],
   "source": []
  },
  {
   "cell_type": "raw",
   "id": "6c486c96",
   "metadata": {},
   "source": [
    "3. Write a Pandas program to create a Pivot table and find the total sale amount region wise, manager wise, sales man wise."
   ]
  },
  {
   "cell_type": "code",
   "execution_count": null,
   "id": "5cc78ba7",
   "metadata": {},
   "outputs": [],
   "source": []
  },
  {
   "cell_type": "raw",
   "id": "46546b58",
   "metadata": {},
   "source": [
    "4. Write a Pandas program to create a Pivot table and find the item wise unit sold. "
   ]
  },
  {
   "cell_type": "code",
   "execution_count": null,
   "id": "b8886cff",
   "metadata": {},
   "outputs": [],
   "source": []
  },
  {
   "cell_type": "raw",
   "id": "72c987b1",
   "metadata": {},
   "source": [
    "5. Write a Pandas program to create a Pivot table and find the region wise total sale. "
   ]
  },
  {
   "cell_type": "code",
   "execution_count": null,
   "id": "a20d5e18",
   "metadata": {},
   "outputs": [],
   "source": []
  },
  {
   "cell_type": "raw",
   "id": "b4a14003",
   "metadata": {},
   "source": [
    "6. Write a Pandas program to create a Pivot table and find the region wise, item wise unit sold. "
   ]
  },
  {
   "cell_type": "code",
   "execution_count": null,
   "id": "f8d24253",
   "metadata": {},
   "outputs": [],
   "source": []
  },
  {
   "cell_type": "raw",
   "id": "52217a9b",
   "metadata": {},
   "source": [
    "7. Write a Pandas program to create a Pivot table and count the manager wise sale and mean value of sale amount. "
   ]
  },
  {
   "cell_type": "code",
   "execution_count": null,
   "id": "9e72c0ac",
   "metadata": {},
   "outputs": [],
   "source": []
  },
  {
   "cell_type": "raw",
   "id": "55e23848",
   "metadata": {},
   "source": [
    "8. Write a Pandas program to create a Pivot table and find manager wise, salesman wise total sale and also display the sum of all sale amount at the bottom."
   ]
  },
  {
   "cell_type": "code",
   "execution_count": null,
   "id": "772e8506",
   "metadata": {},
   "outputs": [],
   "source": []
  },
  {
   "cell_type": "raw",
   "id": "85414c96",
   "metadata": {},
   "source": [
    "9. Write a Pandas program to create a Pivot table and find the total sale amount region wise, manager wise, sales man wise where Manager = \"Douglas\"."
   ]
  },
  {
   "cell_type": "code",
   "execution_count": null,
   "id": "bf5fc7f3",
   "metadata": {},
   "outputs": [],
   "source": []
  },
  {
   "cell_type": "raw",
   "id": "860f05cb",
   "metadata": {},
   "source": [
    "10. Write a Pandas program to create a Pivot table and find the region wise Television and Home Theater sold."
   ]
  },
  {
   "cell_type": "code",
   "execution_count": null,
   "id": "8ab28f11",
   "metadata": {},
   "outputs": [],
   "source": []
  },
  {
   "cell_type": "raw",
   "id": "b7206ec9",
   "metadata": {},
   "source": [
    "11. Write a Pandas program to create a Pivot table and find the maximum sale value of the items. "
   ]
  },
  {
   "cell_type": "code",
   "execution_count": null,
   "id": "7eeda740",
   "metadata": {},
   "outputs": [],
   "source": []
  },
  {
   "cell_type": "raw",
   "id": "3d586653",
   "metadata": {},
   "source": [
    "12. Write a Pandas program to create a Pivot table and find the minimum sale value of the items. "
   ]
  },
  {
   "cell_type": "code",
   "execution_count": null,
   "id": "86ed00e3",
   "metadata": {},
   "outputs": [],
   "source": []
  },
  {
   "cell_type": "raw",
   "id": "165ba058",
   "metadata": {},
   "source": [
    "13.Write a Pandas program to create a Pivot table and find the maximum and minimum sale value of the items."
   ]
  },
  {
   "cell_type": "code",
   "execution_count": null,
   "id": "d1871fc2",
   "metadata": {},
   "outputs": [],
   "source": []
  }
 ],
 "metadata": {
  "kernelspec": {
   "display_name": "Python 3 (ipykernel)",
   "language": "python",
   "name": "python3"
  },
  "language_info": {
   "codemirror_mode": {
    "name": "ipython",
    "version": 3
   },
   "file_extension": ".py",
   "mimetype": "text/x-python",
   "name": "python",
   "nbconvert_exporter": "python",
   "pygments_lexer": "ipython3",
   "version": "3.9.12"
  }
 },
 "nbformat": 4,
 "nbformat_minor": 5
}
